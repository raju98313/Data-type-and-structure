{
  "nbformat": 4,
  "nbformat_minor": 0,
  "metadata": {
    "colab": {
      "provenance": []
    },
    "kernelspec": {
      "name": "python3",
      "display_name": "Python 3"
    },
    "language_info": {
      "name": "python"
    }
  },
  "cells": [
    {
      "cell_type": "markdown",
      "source": [
        "#Assignment - 2"
      ],
      "metadata": {
        "id": "W5RWRnGvvPXH"
      }
    },
    {
      "cell_type": "markdown",
      "source": [
        "Q1. What are data structures and why are they important?\n",
        "\n",
        "Ans.Data structures in Python refer to the way data is stored, organized, and accessed efficiently to perform operations like insertion, deletion, and retrieval. Python provides a rich set of built-in and user-defined data structures that help manage data effectively in programming.\n",
        "\n",
        "🔹 Types of Data Structures in Python:\n",
        "1. Built-in Data Structures:\n",
        "These are directly provided by Python and are easy to use.\n",
        "\n",
        "List: Ordered, mutable collection that can hold heterogeneous data types.\n",
        "\n",
        "Tuple: Ordered, immutable collection used for fixed data.\n",
        "\n",
        "Set: Unordered collection of unique elements.\n",
        "\n",
        "Dictionary: Unordered collection of key-value pairs for fast data lookup.\n",
        "\n",
        "2. User-defined Data Structures:\n",
        "These are created using classes and objects to build more complex structures such as:\n",
        "\n",
        "Stack\n",
        "\n",
        "Queue\n",
        "\n",
        "Linked List\n",
        "\n",
        "Tree\n",
        "\n",
        "Graph\n",
        "\n",
        "\n",
        "#Data Structures Important\n",
        "\n",
        "1.Efficient Data Handling:\n",
        "Data structures help in storing and accessing data in a logical and optimized way.\n",
        "\n",
        "2.Code Optimization:\n",
        "Using the right data structure reduces time and space complexity.\n",
        "\n",
        "3.Simplifies Complex Problems:\n",
        "Structures like graphs and trees help solve problems involving networks, hierarchies, etc.\n",
        "\n",
        "4Foundation for Algorithms:\n",
        "Many algorithms are designed to work efficiently only with certain data structures.\n",
        "\n",
        "5.Reusability and Maintainability:\n",
        "Organized data makes code cleaner, reusable, and easier to maintain.\n",
        "\n",
        "\n",
        "Example of Relevance:\n",
        "When fast look-up is needed → use a dictionary.\n",
        "\n",
        "When maintaining order is essential → use a list or tuple.\n",
        "\n",
        "When uniqueness is important → use a set.\n",
        "\n",
        "For LIFO operations → use a stack.\n",
        "\n",
        "For FIFO operations → use a queue.\n",
        "\n",
        "\n",
        "\n",
        "\n",
        "\n",
        "\n"
      ],
      "metadata": {
        "id": "_gjSi5P_vZYG"
      }
    },
    {
      "cell_type": "markdown",
      "source": [
        "Q2.Q2. Explain the difference between mutable and immutable data types with examples?\n",
        "\n",
        "Ans.\n",
        "#Mutable Data Types\n",
        "Definition:\n",
        "Mutable data types are those whose values can be changed after the object is created. You can modify the content without changing the object’s identity (memory address).\n",
        "\n",
        "Examples in Python:\n",
        "\n",
        "list\n",
        "\n",
        "set\n",
        "\n",
        "dict\n",
        "\n",
        "bytearray\n",
        "\n",
        "  \n",
        "\n",
        "#Immutable Data Types\n",
        "Definition:\n",
        "Immutable data types are those whose values cannot be changed once the object is created. If you try to modify them, a new object is created.\n",
        "\n",
        "#Examples in Python:\n",
        "\n",
        "int\n",
        "\n",
        "float\n",
        "\n",
        "str\n",
        "\n",
        "tuple\n",
        "\n",
        "bool\n",
        "\n",
        "frozenset\n",
        "\n",
        "bytes\n",
        "\n",
        "\n",
        "#Key Differences\n",
        "\n",
        "featrue:-                      Mutable          /       Immutable\n",
        "\n",
        "Can be modified:-                Yes            /         No\n",
        "\n",
        "Memory Address:-          Staye same after change   /  changes when modified\n",
        "\n",
        "used as dict key:-        Yes(usually not hashable) /  no(Hashable)\n",
        "\n",
        "Examples:-                   list,dict,set     /      int,bool,tuple,string"
      ],
      "metadata": {
        "id": "YKSQ3oEmvZao"
      }
    },
    {
      "cell_type": "markdown",
      "source": [
        " Q3. What are the Main Differences Between Lists and Tuples in Python?\n",
        "\n",
        " Ans.In Python, lists and tuples are both used to store collections of items. However, they have some key differences:\n",
        "\n",
        " Mutability:\n",
        "The most important difference is that lists are mutable, meaning you can change their contents after creation—add, remove, or modify elements. On the other hand, tuples are immutable, meaning once they are created, their contents cannot be changed.\n",
        "\n",
        "Syntax:\n",
        "Lists are created using square brackets [], while tuples are created using parentheses ().\n",
        "\n",
        "Performance:\n",
        "Tuples are generally faster than lists because of their immutability, which makes them more memory-efficient.\n",
        "\n",
        "Methods:\n",
        "Lists have more built-in methods like append(), remove(), pop() etc., because they are designed to be modified. Tuples have only a few methods, like count() and index().\n",
        "\n",
        "Use Cases:\n",
        "Use a list when you need to store data that may change during the program. Use a tuple when you want to store fixed data or make sure that data remains constant and safe from modification.\n",
        "\n",
        "Hashability:\n",
        "Since tuples are immutable, they can be used as keys in dictionaries (if all elements are also immutable). Lists, being mutable, cannot be used as dictionary keys.\n",
        "\n"
      ],
      "metadata": {
        "id": "gIJ7gUjevZdU"
      }
    },
    {
      "cell_type": "markdown",
      "source": [
        "Q4.Describe how the dictionaries store data.\n",
        "\n",
        "Ans.In Python, dictionaries store data in the form of key-value pairs. They are implemented using a hash table, which is a data structure that enables fast lookups, insertions, and deletions.\n",
        "\n",
        "\n",
        "#How Python Dictionaries Store Data:\n",
        "Hash Table Mechanism:\n",
        "\n",
        "A dictionary uses a hash table to store its keys and corresponding values.\n",
        "\n",
        "When a key is added to the dictionary, Python computes a hash value for the key using a hashing function. This hash value is then used to determine where the corresponding value will be stored in memory.\n",
        "\n",
        "Keys as Hashable Objects:\n",
        "\n",
        "In Python, keys must be immutable and hashable. Immutable objects like strings, integers, and tuples can be used as keys because their hash value doesn't change during the lifetime of the dictionary.\n",
        "\n",
        "The hash function is responsible for generating a fixed-size integer value from the key, which acts as the index for the key-value pair in the hash table.\n",
        "\n",
        "Value Storage:\n",
        "\n",
        "The value associated with a key can be any Python object, whether mutable or immutable (such as numbers, strings, lists, or even other dictionaries).\n",
        "\n",
        "Direct Access:\n",
        "\n",
        "Once a key-value pair is stored, the dictionary allows constant time access (O(1)) to the value associated with a given key. This is because Python can directly locate the value using the key’s hash value.\n",
        "\n",
        "Collision Handling:\n",
        "\n",
        "If two keys produce the same hash value (a \"collision\"), Python uses a method to resolve the conflict, ensuring each key-value pair is still stored uniquely."
      ],
      "metadata": {
        "id": "2MS8ZCZIvN1M"
      }
    },
    {
      "cell_type": "markdown",
      "source": [
        "#Q5.Why might you use a set instead of a list in python?\n",
        "\n",
        "Ans.  In Python, both lists and sets are used to store collections of items, but they serve different purposes and have different characteristics. You might choose a set over a list in certain situations for the following reasons:\n",
        "\n",
        "1. Uniqueness of Elements\n",
        "A set automatically removes duplicate values.\n",
        "\n",
        "If you want to store only unique items, a set is the ideal choice.\n",
        "\n",
        "In contrast, a list can contain duplicates.\n",
        "\n",
        "Example Use Case: Storing unique user IDs, tags, or product codes.\n",
        "\n",
        "\n",
        "2. Faster Membership Testing (in operation)\n",
        "Sets offer faster lookups (on average O(1) time complexity) because they use a hash table internally.\n",
        "\n",
        "Lists, on the other hand, require a linear search (O(n)) to check if an item exists.\n",
        "\n",
        " Example Use Case: Checking if a value exists in a large dataset quickly.\n",
        "\n",
        "\n",
        "3. Mathematical Set Operations\n",
        "Sets support operations like union, intersection, difference, and symmetric difference, which are not available directly with lists.\n",
        "\n",
        "Example Use Case: Finding common or unique items between two datasets.\n",
        "\n",
        "\n",
        "4. Cleaner and More Readable Code for Set Logic\n",
        "Using sets can make your code cleaner and more readable when you're working with uniqueness or mathematical logic.\n",
        "\n",
        "When Not to Use a Set\n",
        "If the order of elements matters, use a list, because sets are unordered.\n",
        "\n",
        "If you need to store duplicates, sets are not suitable.\n"
      ],
      "metadata": {
        "id": "cwqoUGTl_fwU"
      }
    },
    {
      "cell_type": "markdown",
      "source": [
        "#Q6. What is a String in Python, and Is It Different from a List?\n",
        "\n",
        "\n",
        "Ans. A string in Python is a sequence of characters used to store and represent text. Strings are enclosed in:\n",
        "\n",
        "Single quotes → 'hello'\n",
        "\n",
        "Double quotes → \"hello\"\n",
        "\n",
        "Triple quotes (for multiline) → '''hello''' or \"\"\"hello\"\"\"\n",
        "\n",
        "Strings can include letters, numbers, symbols, and spaces.\n",
        "\n",
        "#Is It Different from a List?\n",
        "Yes, a string is different from a list in several ways:\n",
        "\n",
        "1.Data Type:\n",
        "\n",
        "A string stores only characters.\n",
        "\n",
        "A list can store multiple data types like numbers, strings, booleans, etc.\n",
        "\n",
        "2.Mutability:\n",
        "\n",
        "Strings are immutable (you cannot change their content after creation).\n",
        "\n",
        "Lists are mutable (you can add, remove, or change elements).\n",
        "\n",
        "3.Structure:\n",
        "\n",
        "A string is just a line of characters.\n",
        "\n",
        "A list is a collection of elements, which can even include other lists.\n",
        "\n",
        "4.Modification:\n",
        "\n",
        "You cannot modify a string directly.\n",
        "\n",
        "You can modify a list easily.\n"
      ],
      "metadata": {
        "id": "Oo0CFXfoCJkj"
      }
    },
    {
      "cell_type": "markdown",
      "source": [
        "#Q7. How Do Tuples Ensure Data Integrity in Python?\n",
        "\n",
        "Ans.In Python, a tuple is an immutable sequence of elements, meaning once a tuple is created, its content cannot be changed—you cannot add, remove, or modify elements in it.\n",
        "\n",
        "This immutability plays a major role in ensuring data integrity, especially in situations where data must remain constant, protected, and unaltered throughout the execution of a program.\n",
        "\n",
        "#Ways Tuples Ensure Data Integrity:\n",
        "Immutability Prevents Accidental Changes:\n",
        "Since tuples are immutable, no part of the data stored in them can be modified accidentally or intentionally. This guarantees that the original data remains intact.\n",
        "\n",
        "Safe to Use as Dictionary Keys:-\n",
        "Because they are hashable (due to being immutable), tuples can be used as keys in dictionaries, which ensures consistent access and secure data referencing.\n",
        "\n",
        "Secure for Fixed Collections:-\n",
        "When you want to pass a group of values that must not be modified (like configuration values or coordinates), using a tuple assures that no part of the data will be changed by mistake.\n",
        "\n",
        "Reliable in Concurrent Programming:-\n",
        "In multi-threaded applications, using tuples helps avoid data corruption due to multiple threads trying to update the same data at the same time.\n",
        "\n",
        "Improved Readability and Predictability:-\n",
        "When developers see a tuple, they know the data inside is fixed. This improves code clarity and makes logic easier to follow and maintain."
      ],
      "metadata": {
        "id": "15eAcpKSGeKK"
      }
    },
    {
      "cell_type": "markdown",
      "source": [
        "#Q8.What is hash table, how does it relate to dictionaries in python?\n",
        "\n",
        "Ans.\n",
        "#Hash Table\n",
        "A hash table is a data structure that stores data in a key-value pair format. It uses a process called hashing, which converts a key into a specific index in an array where the corresponding value is stored.\n",
        "\n",
        "The key is passed through a hash function, which generates a unique hash code (a fixed-size integer).\n",
        "\n",
        "This hash code determines the index (location) where the value should be stored.\n",
        "\n",
        "This allows for very fast data retrieval, usually in constant time O(1).\n",
        "\n",
        "#How Does It Relate to Dictionaries in Python?\n",
        "In Python, a dictionary is an implementation of a hash table. When you create a dictionary and assign a value to a key, Python internally uses a hash table to manage and store this data efficiently.\n",
        "\n",
        "#Relation Between Hash Tables and Python Dictionaries:\n",
        "Storage Mechanism:-\n",
        "Python uses a hash table behind the scenes to store the keys and their associated values in a dictionary.\n",
        "\n",
        "Fast Lookup:-\n",
        "Dictionaries allow quick access to values using keys because of hashing. This means retrieving a value by its key is usually very fast (on average O(1) time complexity).\n",
        "\n",
        "Key Requirements:-\n",
        "Since keys are hashed, they must be immutable and hashable (like strings, numbers, or tuples). Mutable types like lists cannot be used as dictionary keys.\n",
        "\n",
        "Collision Handling:-\n",
        "Sometimes, two different keys may produce the same hash code (called a collision). Python handles this using techniques like open addressing or chaining to ensure data is still stored and retrieved correctly.\n",
        "\n",
        "Dynamic Resizing:-\n",
        "Python dictionaries automatically resize the underlying hash table when more elements are added, ensuring efficient performance.\n"
      ],
      "metadata": {
        "id": "JbH2Q8mOHmnB"
      }
    },
    {
      "cell_type": "markdown",
      "source": [
        "#Q9. Can Lists Contain Different Data Types in Python?\n",
        "\n",
        "Ans.Yes, lists in Python can contain different data types.\n",
        "\n",
        "#Explanation:\n",
        "Python is a dynamically-typed language, which means that variables and data structures like lists do not require a fixed data type. A single list can store a combination of various types of data such as:\n",
        "\n",
        "Integers\n",
        "\n",
        "Floats\n",
        "\n",
        "Strings\n",
        "\n",
        "Booleans\n",
        "\n",
        "Lists\n",
        "\n",
        "Tuples\n",
        "\n",
        "Dictionaries\n",
        "\n",
        "Even functions or objects\n",
        "\n",
        "#Example:\n",
        "python\n",
        "Copy\n",
        "Edit\n",
        "my_list = [25, \"Hello\", 3.14, True, [1, 2, 3], {\"name\": \"Sunny\"}]\n",
        "This list contains:\n",
        "\n",
        "An integer (25)\n",
        "\n",
        "A string (\"Hello\")\n",
        "\n",
        "A float (3.14)\n",
        "\n",
        "A boolean (True)\n",
        "\n",
        "Another list ([1, 2, 3])\n",
        "\n",
        "A dictionary ({\"name\": \"Sunny\"})\n"
      ],
      "metadata": {
        "id": "FnTRsfp8KMP-"
      }
    },
    {
      "cell_type": "markdown",
      "source": [
        "#Q10. Explain Why Strings Are Immutable in Python.\n",
        "\n",
        "Ans.\n",
        "#What Does \"Immutable\" Mean?\n",
        "In Python, immutable means that once an object is created, its content cannot be changed. For strings, this means that you cannot change, update, or delete individual characters in the string after it has been created.\n",
        "\n",
        "#Why Are Strings Immutable in Python?\n",
        "Efficiency and Performance\n",
        "\n",
        "Strings are used frequently in programming, and immutability allows Python to optimize memory usage through string interning (reusing objects with the same content).\n",
        "\n",
        "It reduces overhead and improves performance when handling many strings.\n",
        "\n",
        "Hashing and Dictionary Keys\n",
        "\n",
        "Strings are often used as keys in dictionaries.\n",
        "\n",
        "For an object to be used as a key, it must be hashable, and immutability ensures that its hash value remains constant, making it safe to use in hash-based structures like dictionaries and sets.\n",
        "\n",
        "Security and Data Integrity\n",
        "\n",
        "Immutability helps protect the original data from being accidentally or intentionally modified.\n",
        "\n",
        "This leads to more secure and reliable code, especially in large programs where data may be passed through many functions.\n",
        "\n",
        "Thread Safety\n",
        "\n",
        "Immutable objects are safe to use in multi-threaded environments because their value cannot change, reducing the chances of data corruption due to concurrent modifications.\n",
        "\n",
        "#Example:\n",
        "python\n",
        "Copy\n",
        "Edit\n",
        "text = \"hello\"\n",
        "text[0] = \"H\"   # ❌ This will raise an error: 'str' object does not support item assignment\n",
        "To \"change\" a string, you must create a new string:\n",
        "\n",
        "python\n",
        "Copy\n",
        "Edit\n",
        "new_text = \"H\" + text[1:]  # ✔️ Creates a new string \"Hello\""
      ],
      "metadata": {
        "id": "AJ9YKiOnK78C"
      }
    },
    {
      "cell_type": "markdown",
      "source": [
        "#Q11. What Advantages Do Dictionaries Offer Over Lists for Certain Tasks?\n",
        "\n",
        "Ans.In Python, dictionaries and lists are both commonly used data structures, but they serve different purposes. A dictionary stores data as key-value pairs, while a list stores data as an ordered sequence of items.\n",
        "\n",
        "Here are the key advantages that dictionaries offer over lists for certain tasks:\n",
        "\n",
        "1. Faster Data Lookup (O(1) Time Complexity)\n",
        "In a dictionary, data is accessed using keys, not positions.\n",
        "\n",
        "Lookup in a dictionary is very fast because it uses a hash table internally.\n",
        "\n",
        "In contrast, searching for an item in a list requires going through the list sequentially (O(n) time).\n",
        "\n",
        "#Example: Getting a student’s marks using their roll number as a key.\n",
        "\n",
        "2. Better Organization with Key-Value Mapping\n",
        "Dictionaries allow you to label your data using meaningful keys.\n",
        "\n",
        "This makes code more readable and easier to manage, especially for structured data.\n",
        "\n",
        "#Example:\n",
        "\n",
        "python\n",
        "Copy\n",
        "Edit\n",
        "student = {\"name\": \"Sunny\", \"age\": 23, \"course\": \"BBA\"}\n",
        "Instead of accessing values by index (list[0]), you can access them by label (student[\"name\"]), which is clearer.\n",
        "\n",
        "3. No Need to Remember Index Positions\n",
        "In lists, you must remember the position (index) of each item.\n",
        "\n",
        "In dictionaries, you simply use the descriptive key.\n",
        "\n",
        "4.Suitable for Real-World Structured Data\n",
        "Dictionaries are ideal for representing structured objects like records, JSON data, configuration settings, or APIs.\n",
        "\n",
        "5.Avoiding Duplicate Keys\n",
        "Dictionaries automatically avoid duplicate keys, which helps maintain data integrity.\n",
        "\n",
        "In a list, you can accidentally have duplicate entries.\n",
        "\n"
      ],
      "metadata": {
        "id": "mSaRfscZMPcs"
      }
    },
    {
      "cell_type": "markdown",
      "source": [
        "#Q12. Describe a Scenario Where Using a Tuple Would Be Preferable Over a List.\n",
        "\n",
        "Ans.\n",
        "#What Makes Tuples Preferable?\n",
        "A tuple is an immutable sequence in Python, meaning its elements cannot be changed once defined. This immutability offers data protection, faster performance, and safe usage in sets or as dictionary keys.\n",
        "\n",
        "#Scenario: Storing Coordinates in a GIS (Geographic Information System)\n",
        "Imagine you're building a program to manage locations on a map. Each location is defined by its latitude and longitude. These values should not change once recorded.\n",
        " Using a Tuple:\n",
        "python\n",
        "Copy\n",
        "Edit\n",
        "location = (28.6139, 77.2090)  # Coordinates of New Delhi\n",
        "Why a Tuple is Better Than a List:\n",
        "Immutability – Coordinates shouldn't change once saved.\n",
        "\n",
        "Safety – Prevents accidental modification of important data.\n",
        "\n",
        "Performance – Tuples are faster and use less memory.\n",
        "\n",
        "Hashable – Can be used as keys in dictionaries:\n",
        "\n",
        "python\n",
        "Copy\n",
        "Edit\n",
        "city_coordinates = {(28.6139, 77.2090): \"New Delhi\"}\n",
        "#Other Examples Where Tuples Are Preferred:\n",
        "Function return values with fixed structure:\n",
        "\n",
        "python\n",
        "Copy\n",
        "Edit\n",
        "def get_user():\n",
        "    return (\"Sunny\", 23)\n",
        "Configuration values that shouldn’t change during runtime.\n",
        "\n",
        "Storing constants like days of the week:\n",
        "\n",
        "python\n",
        "Copy\n",
        "Edit\n",
        "days = (\"Mon\", \"Tue\", \"Wed\", \"Thu\", \"Fri\", \"Sat\", \"Sun\")\n"
      ],
      "metadata": {
        "id": "HgLzQc-yO2nK"
      }
    },
    {
      "cell_type": "markdown",
      "source": [
        "#Q13. Describe a Scenario Where Using a Tuple Would Be Preferable Over a List\n",
        "\n",
        "Ans.A tuple is an immutable sequence in Python, meaning its elements cannot be changed once defined. This immutability offers data protection, faster performance, and safe usage in sets or as dictionary keys.\n",
        "\n",
        "#Scenario: Storing Coordinates in a GIS (Geographic Information System)\n",
        "Imagine you're building a program to manage locations on a map. Each location is defined by its latitude and longitude. These values should not change once recorded.\n",
        "\n",
        "# Using a Tuple:\n",
        "python\n",
        "Copy\n",
        "Edit\n",
        "location = (28.6139, 77.2090)  # Coordinates of New Delhi\n",
        "\n",
        "#Why a Tuple is Better Than a List:\n",
        "Immutability – Coordinates shouldn't change once saved.\n",
        "\n",
        "Safety – Prevents accidental modification of important data.\n",
        "\n",
        "Performance – Tuples are faster and use less memory.\n",
        "\n",
        "Hashable – Can be used as keys in dictionaries:\n",
        "\n",
        "python\n",
        "Copy\n",
        "Edit\n",
        "city_coordinates = {(28.6139, 77.2090): \"New Delhi\"}\n",
        "#Other Examples Where Tuples Are Preferred:\n",
        "Function return values with fixed structure:\n",
        "\n",
        "python\n",
        "Copy\n",
        "Edit\n",
        "def get_user():\n",
        "    return (\"Sunny\", 23)\n",
        "Configuration values that shouldn’t change during runtime.\n",
        "\n",
        "Storing constants like days of the week:\n",
        "\n",
        "python\n",
        "Copy\n",
        "Edit\n",
        "days = (\"Mon\", \"Tue\", \"Wed\", \"Thu\", \"Fri\", \"Sat\", \"Sun\")\n"
      ],
      "metadata": {
        "id": "RLZOXBQUPabt"
      }
    },
    {
      "cell_type": "markdown",
      "source": [
        "#Q14.How does the \"in\" keyword work differently for lists and dictionaries.\n",
        "\n",
        "Ans. What is the in Keyword\n",
        "The in keyword in Python is used to check whether a value exists in a sequence or collection. It returns True if the item is found, otherwise False.\n",
        "\n",
        "#In Lists: Checks for Values\n",
        "When used with a list, the in keyword checks if a value exists among the elements of the list.\n",
        "\n",
        "#Example:\n",
        "python\n",
        "Copy\n",
        "Edit\n",
        "my_list = [10, 20, 30]\n",
        "print(20 in my_list)  # ✅ True (20 is a value in the list)\n",
        "#In Dictionaries: Checks for Keys Only\n",
        "When used with a dictionary, the in keyword checks if a key exists in the dictionary — not the value.\n",
        "\n",
        "#Example:\n",
        "python\n",
        "Copy\n",
        "Edit\n",
        "my_dict = {\"name\": \"Sunny\", \"age\": 23}\n",
        "print(\"name\" in my_dict)   # True (key exists)\n",
        "print(\"Sunny\" in my_dict)  #  False (value, not a key)\n",
        "To check for a value in a dictionary, you need:\n",
        "\n",
        "python\n",
        "Copy\n",
        "Edit\n",
        "\"Sunny\" in my_dict.values()  # True\n",
        " Summary of Differences:\n",
        "\n",
        "Feature\tList\tDictionary\n",
        "What it checks\tValues\tKeys\n",
        "Example\t20 in [10, 20, 30]\t\"name\" in {\"name\": \"Sunny\"}\n",
        "Value check\tDirect\tUse .values() method"
      ],
      "metadata": {
        "id": "LeSp6UFwQ-Y9"
      }
    },
    {
      "cell_type": "markdown",
      "source": [
        "#Q15.Can you modify the elements of a Tuple? Explain why or not why.\n",
        "\n",
        "\n",
        "Ans.No, you cannot modify the elements of a tuple.\n",
        "\n",
        "#Explanation :-\n",
        "A tuple in Python is an immutable data type. This means that once a tuple is created, its elements cannot be changed, added, or removed.\n",
        "\n",
        "#Why Are Tuples Immutable\n",
        "Data Integrity:\n",
        "Tuples are often used to represent fixed collections of data. Immutability ensures that this data remains unchanged throughout the program.\n",
        "\n",
        "Hashable and Usable as Dictionary Keys:\n",
        "Because tuples are immutable, they can be used as keys in dictionaries or elements in sets, unlike lists.\n",
        "\n",
        "Faster Performance:\n",
        "Tuples consume less memory and have faster performance compared to lists, due to their fixed size and immutability.\n",
        "\n",
        "#What Happens If You Try to Modify a Tuple\n",
        "Example:\n",
        "python\n",
        "Copy\n",
        "Edit\n",
        "my_tuple = (1, 2, 3)\n",
        "my_tuple[0] = 10  #This will raise: TypeError\n",
        "Error:\n",
        "\n",
        "php\n",
        "Copy\n",
        "Edit\n",
        "TypeError: 'tuple' object does not support item assignment\n"
      ],
      "metadata": {
        "id": "NIeADyowSyi8"
      }
    },
    {
      "cell_type": "markdown",
      "source": [
        "#Q16.What is a nested dictionary and give an example of its use case?\n",
        "\n",
        "Ans.\n",
        "\n",
        "\n",
        "#Definition:\n",
        "A nested dictionary in Python is a dictionary inside another dictionary. It allows you to organize complex or hierarchical data using multiple levels of key-value pairs.\n",
        "\n",
        "#Structure:\n",
        "python\n",
        "Copy\n",
        "Edit\n",
        "nested_dict = {\n",
        "    \"student1\": {\"name\": \"Sunny\", \"age\": 23},\n",
        "    \"student2\": {\"name\": \"Ravi\", \"age\": 22}\n",
        "}\n",
        "Here, each key (\"student1\", \"student2\") maps to another dictionary containing more detailed information.\n",
        "\n",
        "#Use Case Example: Student Records System\n",
        "Suppose you're building a system to store details of multiple students, each having a name, age, and course.\n",
        "\n",
        "#Nested Dictionary:\n",
        "python\n",
        "Copy\n",
        "Edit\n",
        "students = {\n",
        "    \"101\": {\"name\": \"Sunny\", \"age\": 23, \"course\": \"BBA\"},\n",
        "    \"102\": {\"name\": \"Anjali\", \"age\": 22, \"course\": \"B.Com\"},\n",
        "    \"103\": {\"name\": \"Ravi\", \"age\": 24, \"course\": \"MBA\"}\n",
        "}\n",
        "101, 102, and 103 are student IDs (keys).\n",
        "\n",
        "Each student ID maps to a dictionary of personal details.\n",
        "\n",
        "#Why Use a Nested Dictionary?\n",
        "To store structured data in a readable and accessible way.\n",
        "\n",
        "Makes it easy to group related data under a single key.\n",
        "\n",
        "Supports multi-level access, like:\n",
        "\n",
        "python\n",
        "Copy\n",
        "Edit\n",
        "print(students[\"101\"][\"name\"])  # Output: Sunny"
      ],
      "metadata": {
        "id": "cvJlnVT3S09U"
      }
    },
    {
      "cell_type": "markdown",
      "source": [
        "#Q17. Describe the time complexity of accessing elements in  a dictionary.\n",
        "\n",
        "Ans.Accessing elements in a **dictionary** in Python has an average-case **time complexity of O(1)** — also known as **constant time**.\n",
        "\n",
        "### Explanation:\n",
        "- Python dictionaries are implemented as **hash tables**.\n",
        "- When you access a value using a key (`my_dict[key]`), Python computes the **hash** of the key to directly find the index where the value is stored.\n",
        "- This direct lookup makes it very fast — hence the O(1) complexity.\n",
        "\n",
        "### Worst Case:\n",
        "- In rare cases (e.g. when many keys hash to the same value, causing collisions), the time complexity can degrade to **O(n)**.\n",
        "- However, Python handles collisions quite well using techniques like **open addressing** or **chaining**, so the worst case is very uncommon.\n"
      ],
      "metadata": {
        "id": "FKrnUj14A55W"
      }
    },
    {
      "cell_type": "markdown",
      "source": [
        "#Q18.In what situations are lists perferred over a dictionaries?\n",
        "\n",
        "Ans. Great question! Lists and dictionaries are both powerful data structures in Python, but they shine in different situations. Here's when **lists are preferred over dictionaries**:\n",
        "\n",
        "---\n",
        "\n",
        "### **1. Order Matters**\n",
        "- **Lists** preserve the **order** of elements.\n",
        "- Useful when the **sequence** or **position** of items is important (e.g., ordered tasks, time-series data).\n",
        "\n",
        ">  Example: Managing a to-do list – `[\"wake up\", \"exercise\", \"study\"]`\n",
        "\n",
        "---\n",
        "\n",
        "###  **2. Storing Similar Items**\n",
        "- Lists are ideal when storing a **collection of similar data** types, like numbers, strings, or objects.\n",
        "\n",
        ">  Example: List of student marks – `[85, 92, 78, 90]`\n",
        "\n",
        "---\n",
        "\n",
        "### **3. Iteration Over Items**\n",
        "- Lists are great for **looping** through items in a defined sequence.\n",
        "- Useful for scenarios like applying a function to each element.\n",
        "\n",
        ">  Example: Applying a discount to all prices in a product list.\n",
        "\n",
        "---\n",
        "\n",
        "### **4. No Need for Unique Keys**\n",
        "- Lists don’t require a unique key like dictionaries do.\n",
        "- If you're storing values without needing identifiers, lists are simpler.\n",
        "\n",
        "---\n",
        "\n",
        "###  **5. Memory Efficiency**\n",
        "- Lists are generally more **memory efficient** than dictionaries when only values are stored.\n",
        "- Dictionaries have overhead due to hashing and storing keys.\n",
        "\n",
        "---\n",
        "\n",
        "### Summary Table:\n",
        "\n",
        "| Scenario                            | Prefer List | Prefer Dictionary |\n",
        "|-------------------------------------|-------------|--------------------|\n",
        "| Order is important                  | ✅           | ❌                  |\n",
        "| Data has unique identifiers (keys) | ❌           | ✅                  |\n",
        "| Fast lookup by key is needed        | ❌           | ✅                  |\n",
        "| Looping in order                    | ✅           | ❌                  |\n",
        "| Simple collection of values         | ✅           | ❌                  |\n",
        "\n",
        "---\n",
        "\n"
      ],
      "metadata": {
        "id": "TmI0aPcGBWB4"
      }
    },
    {
      "cell_type": "markdown",
      "source": [
        "#Q19.Why are dictionaries considered unordered,and how deos that affect data retrieval?\n",
        "\n",
        "Ans.\n",
        "---\n",
        "\n",
        "### **Earlier Python Versions (Before 3.7)**\n",
        "\n",
        "- **Dictionaries were unordered.**\n",
        "- That means: when you added key-value pairs, their order was **not guaranteed** when you retrieved or iterated over them.\n",
        "- Internally, the data was stored based on **hash values**, not insertion order.\n",
        "\n",
        " So:  \n",
        "If you inserted:\n",
        "```python\n",
        "my_dict = {'a': 1, 'b': 2, 'c': 3}\n",
        "```\n",
        "It might print:\n",
        "```python\n",
        "{'c': 3, 'a': 1, 'b': 2}\n",
        "```\n",
        "\n",
        "This was unpredictable and random.\n",
        "\n",
        "---\n",
        "\n",
        "###  **Modern Python (Version 3.7 and Above)**\n",
        "\n",
        "- **Dictionaries preserve insertion order**, but they're still **logically considered unordered**.\n",
        "- Why? Because the primary purpose of a dictionary is **key-based lookup**, not ordered iteration.\n",
        "\n",
        "#Example:\n",
        "```python\n",
        "my_dict = {'x': 10, 'y': 20, 'z': 30}\n",
        "print(my_dict)\n",
        "```\n",
        "Output will be:\n",
        "```\n",
        "{'x': 10, 'y': 20, 'z': 30}\n",
        "```\n",
        "But Python still does **not guarantee** that operations depending on order (like sorting) will behave like lists.\n",
        "\n",
        "---\n",
        "\n",
        "###  **How It Affects Data Retrieval**\n",
        "\n",
        "- **Direct Access by Key** is **fast (O(1))** and unaffected by order.\n",
        "-  If you need **positional access** (like `dict[0]`), you can’t do that — use a list or convert keys to a list.\n",
        "\n"
      ],
      "metadata": {
        "id": "seXIsDKPChW2"
      }
    },
    {
      "cell_type": "markdown",
      "source": [
        "#Q20.Explain the difference between a lists and a dictionary in terms of data retrieval.\n",
        "\n",
        "Ans.\n",
        "\n",
        "---\n",
        "\n",
        "###  List vs Dictionary – Data Retrieval**\n",
        "\n",
        "| Feature                 | **List**                           | **Dictionary**                          |\n",
        "|-------------------------|------------------------------------|------------------------------------------|\n",
        "| **Access method**       | By **index** (e.g., `list[0]`)     | By **key** (e.g., `dict[\"name\"]`)        |\n",
        "| **Time complexity**     | O(1) (if index is known)           | O(1) (average case with key)             |\n",
        "| **Lookup by value**     | O(n) (linear search)               | O(1) (by key)                            |\n",
        "| **Use case**            | Sequential data                    | Key-value pair data                      |\n",
        "| **Need unique ID?**     | ❌ No                              | ✅ Yes – keys must be unique             |\n",
        "| **Ordered?**            | ✅ Yes (always)                    | ✅ (since Python 3.7)                    |\n",
        "\n",
        "---\n",
        "\n",
        "###  **List Retrieval Example**\n",
        "```python\n",
        "fruits = ['apple', 'banana', 'cherry']\n",
        "print(fruits[1])  # Output: banana\n",
        "```\n",
        "- Access by **position/index**\n",
        "- Great when order matters\n",
        "\n",
        "---\n",
        "\n",
        "###  **Dictionary Retrieval Example**\n",
        "```python\n",
        "person = {'name': 'Sunny', 'age': 23}\n",
        "print(person['name'])  # Output: Sunny\n",
        "```\n",
        "- Access by **key**\n",
        "- Great when each item has a label\n",
        "\n",
        "---\n",
        "\n"
      ],
      "metadata": {
        "id": "EFKozhhXEvxx"
      }
    },
    {
      "cell_type": "markdown",
      "source": [
        "#Practical Questions"
      ],
      "metadata": {
        "id": "3SpB-L9DLJAO"
      }
    },
    {
      "cell_type": "markdown",
      "source": [
        "#Q1.write a code to create a string with your name and print it."
      ],
      "metadata": {
        "id": "r2_Lq7UOLUbw"
      }
    },
    {
      "cell_type": "code",
      "source": [
        "name = \"Raju\""
      ],
      "metadata": {
        "id": "vrEZ63vdLlxx"
      },
      "execution_count": null,
      "outputs": []
    },
    {
      "cell_type": "code",
      "source": [
        "print(a)"
      ],
      "metadata": {
        "colab": {
          "base_uri": "https://localhost:8080/"
        },
        "id": "YO2CdgYZLqR2",
        "outputId": "3bc7ede1-b22c-45f1-b492-a1638ff369cc"
      },
      "execution_count": null,
      "outputs": [
        {
          "output_type": "stream",
          "name": "stdout",
          "text": [
            "Raju\n"
          ]
        }
      ]
    },
    {
      "cell_type": "markdown",
      "source": [
        "Q2.Write the code to find the length of the string \"Hello world\"."
      ],
      "metadata": {
        "id": "ggi7mNkBL8Mj"
      }
    },
    {
      "cell_type": "code",
      "source": [
        "name = \"Hello world\""
      ],
      "metadata": {
        "id": "hIU60lH6MYgw"
      },
      "execution_count": null,
      "outputs": []
    },
    {
      "cell_type": "code",
      "source": [
        "length = len(name)"
      ],
      "metadata": {
        "id": "_qjH7sohMjSy"
      },
      "execution_count": null,
      "outputs": []
    },
    {
      "cell_type": "code",
      "source": [
        "print(\"The length of the string is \", length )"
      ],
      "metadata": {
        "colab": {
          "base_uri": "https://localhost:8080/"
        },
        "id": "Gbxy8b1CMosg",
        "outputId": "51c8202d-08f7-43ff-b3b4-dd2cc7080c9b"
      },
      "execution_count": null,
      "outputs": [
        {
          "output_type": "stream",
          "name": "stdout",
          "text": [
            "The length of the string is  11\n"
          ]
        }
      ]
    },
    {
      "cell_type": "markdown",
      "source": [
        "#Q3.Write the code to slice the first 3 characters from the string \"python programming\"."
      ],
      "metadata": {
        "id": "JQtDcFEsNHx_"
      }
    },
    {
      "cell_type": "code",
      "source": [
        "name = \"python progamming\""
      ],
      "metadata": {
        "id": "EPAqIwA0M7Rb"
      },
      "execution_count": null,
      "outputs": []
    },
    {
      "cell_type": "code",
      "source": [
        "slice1 = name[0:3]"
      ],
      "metadata": {
        "id": "fF7rq1q1OTp7"
      },
      "execution_count": null,
      "outputs": []
    },
    {
      "cell_type": "code",
      "source": [
        "print(\"slice string(0 to 3):\", slice1)"
      ],
      "metadata": {
        "colab": {
          "base_uri": "https://localhost:8080/"
        },
        "id": "MT90T4SqOblY",
        "outputId": "574bc9cc-eefc-408a-8e2f-1b3e180332e3"
      },
      "execution_count": null,
      "outputs": [
        {
          "output_type": "stream",
          "name": "stdout",
          "text": [
            "slice string(0 to 3): pyt\n"
          ]
        }
      ]
    },
    {
      "cell_type": "markdown",
      "source": [
        "#Q4.Write the code to convert the string \"Hello\" to uppercase."
      ],
      "metadata": {
        "id": "W2NGLYQ2QKSw"
      }
    },
    {
      "cell_type": "code",
      "source": [
        "text = \"Hello\"\n",
        "upper_text = text.upper()\n",
        "print(\"uppercase:\", upper_text)"
      ],
      "metadata": {
        "colab": {
          "base_uri": "https://localhost:8080/"
        },
        "id": "VB8qBVMDQvr3",
        "outputId": "7e351b2a-f9c1-4235-fe98-093766712aee"
      },
      "execution_count": null,
      "outputs": [
        {
          "output_type": "stream",
          "name": "stdout",
          "text": [
            "uppercase: HELLO\n"
          ]
        }
      ]
    },
    {
      "cell_type": "markdown",
      "source": [
        "#Q5.write a code to replace the word \"apple\" with \"orange\" in the string \"i like apple\"."
      ],
      "metadata": {
        "id": "r-GayL11RYJ7"
      }
    },
    {
      "cell_type": "code",
      "source": [
        "text = \"i like apple\"\n",
        "new_text = text.replace(\"apple\",\"orange\")\n",
        "print(\"updated string:\", new_text)"
      ],
      "metadata": {
        "colab": {
          "base_uri": "https://localhost:8080/"
        },
        "id": "fBz4Ibk9SHar",
        "outputId": "3e84ca48-4f63-45a4-a2ee-38d5e9e455d3"
      },
      "execution_count": null,
      "outputs": [
        {
          "output_type": "stream",
          "name": "stdout",
          "text": [
            "updated string: i like orange\n"
          ]
        }
      ]
    },
    {
      "cell_type": "markdown",
      "source": [
        "#Q6.write a code to create a list with number 1 to 5 and print it.  "
      ],
      "metadata": {
        "id": "b7bk7a06SxqV"
      }
    },
    {
      "cell_type": "code",
      "source": [
        "mylist = [1,2,3,4,5]"
      ],
      "metadata": {
        "id": "m-463wGNQxdW"
      },
      "execution_count": null,
      "outputs": []
    },
    {
      "cell_type": "code",
      "source": [
        "print(mylist)"
      ],
      "metadata": {
        "colab": {
          "base_uri": "https://localhost:8080/"
        },
        "id": "g0yvzUdJT6pf",
        "outputId": "cf0c0355-1822-4138-d7e8-4cea07796669"
      },
      "execution_count": null,
      "outputs": [
        {
          "output_type": "stream",
          "name": "stdout",
          "text": [
            "[1, 2, 3, 4, 5]\n"
          ]
        }
      ]
    },
    {
      "cell_type": "markdown",
      "source": [
        "#Q7.Writr a code to append the number 10 to the list [1,2,3,4]"
      ],
      "metadata": {
        "id": "-bLJ8ctEUV9o"
      }
    },
    {
      "cell_type": "code",
      "source": [
        "mylist = [1,2,3,4]"
      ],
      "metadata": {
        "id": "pa0tUnEhT-Bm"
      },
      "execution_count": null,
      "outputs": []
    },
    {
      "cell_type": "code",
      "source": [
        "mylist.append(10)"
      ],
      "metadata": {
        "id": "LunpVy9PU0sY"
      },
      "execution_count": null,
      "outputs": []
    },
    {
      "cell_type": "code",
      "source": [
        "print(mylist)"
      ],
      "metadata": {
        "colab": {
          "base_uri": "https://localhost:8080/"
        },
        "id": "d-vFMKZwVDdl",
        "outputId": "5c42be36-f89b-4e88-d84f-e0fe0a771638"
      },
      "execution_count": null,
      "outputs": [
        {
          "output_type": "stream",
          "name": "stdout",
          "text": [
            "[1, 2, 3, 4, 10]\n"
          ]
        }
      ]
    },
    {
      "cell_type": "markdown",
      "source": [
        "#Q8.Write a code to remove the number 3 from the list [1,2,3,4,5]"
      ],
      "metadata": {
        "id": "ZZVmTrUJVI4l"
      }
    },
    {
      "cell_type": "code",
      "source": [
        "mylist = [1,2,3,4,5]"
      ],
      "metadata": {
        "id": "0trkIl-7VncC"
      },
      "execution_count": null,
      "outputs": []
    },
    {
      "cell_type": "code",
      "source": [
        "mylist.remove(3)"
      ],
      "metadata": {
        "id": "-VuA2WaxVGcj"
      },
      "execution_count": null,
      "outputs": []
    },
    {
      "cell_type": "code",
      "source": [
        "print(mylist)"
      ],
      "metadata": {
        "colab": {
          "base_uri": "https://localhost:8080/"
        },
        "id": "h50ABNuIVxLa",
        "outputId": "c7dfdab6-814e-4929-b49d-b9a2ae6dcc83"
      },
      "execution_count": null,
      "outputs": [
        {
          "output_type": "stream",
          "name": "stdout",
          "text": [
            "[1, 2, 4, 5]\n"
          ]
        }
      ]
    },
    {
      "cell_type": "markdown",
      "source": [
        "#Q9.Write a code to access the second element in the list ['a','b','c','d']"
      ],
      "metadata": {
        "id": "jYQyqo0KV-Ki"
      }
    },
    {
      "cell_type": "code",
      "source": [
        "my_list = ['a', 'b', 'c', 'd']\n"
      ],
      "metadata": {
        "id": "rlT4UvRxaG5J"
      },
      "execution_count": null,
      "outputs": []
    },
    {
      "cell_type": "code",
      "source": [
        "second_element = my_list[1]"
      ],
      "metadata": {
        "id": "VM5nv7JPdq8H"
      },
      "execution_count": null,
      "outputs": []
    },
    {
      "cell_type": "code",
      "source": [
        "del print"
      ],
      "metadata": {
        "id": "BbPVWSbVdvFv"
      },
      "execution_count": null,
      "outputs": []
    },
    {
      "cell_type": "code",
      "source": [
        "print(\"The second element is:\", second_element)"
      ],
      "metadata": {
        "colab": {
          "base_uri": "https://localhost:8080/"
        },
        "id": "RrCGIucldzOU",
        "outputId": "546c5deb-dc3a-48b5-ca66-a6cb8f83fbf0"
      },
      "execution_count": null,
      "outputs": [
        {
          "output_type": "stream",
          "name": "stdout",
          "text": [
            "The second element is: b\n"
          ]
        }
      ]
    },
    {
      "cell_type": "markdown",
      "source": [],
      "metadata": {
        "id": "_2azAR6ObaNw"
      }
    },
    {
      "cell_type": "markdown",
      "source": [
        "#Q10.Write a code to reverse the list [10,20,30,40,50]."
      ],
      "metadata": {
        "id": "l7ozCmdyayIH"
      }
    },
    {
      "cell_type": "code",
      "source": [
        "my_list = [10, 20, 30, 40, 50]\n",
        "reversed_list = my_list[::-1]\n",
        "print(reversed_list)"
      ],
      "metadata": {
        "colab": {
          "base_uri": "https://localhost:8080/"
        },
        "id": "18QQ2nsvbcnt",
        "outputId": "3ee2ce97-b1fd-43b6-f185-5f3a337e6e6b"
      },
      "execution_count": null,
      "outputs": [
        {
          "output_type": "stream",
          "name": "stdout",
          "text": [
            "[50, 40, 30, 20, 10]\n"
          ]
        }
      ]
    },
    {
      "cell_type": "markdown",
      "source": [
        "#Q11.write a code to create a tuple with the elements 100,200,300 and print it."
      ],
      "metadata": {
        "id": "P8H5tEWterqf"
      }
    },
    {
      "cell_type": "code",
      "source": [
        "my_tuple = (100, 200, 300)\n",
        "print( my_tuple)\n"
      ],
      "metadata": {
        "colab": {
          "base_uri": "https://localhost:8080/"
        },
        "id": "nP2KbzixfWaW",
        "outputId": "774ee5df-c6f8-419c-bc89-52af734f52c2"
      },
      "execution_count": null,
      "outputs": [
        {
          "output_type": "stream",
          "name": "stdout",
          "text": [
            "(100, 200, 300)\n"
          ]
        }
      ]
    },
    {
      "cell_type": "markdown",
      "source": [
        "#Q12.Write a code to access the second- to - last element of the tuple ('red','green','blue','yellow')."
      ],
      "metadata": {
        "id": "NtXss-w0fnqy"
      }
    },
    {
      "cell_type": "code",
      "source": [
        "my_tuple = ('red', 'green', 'blue', 'yellow')\n",
        "second_to_last = my_tuple[-2]\n",
        "print( second_to_last)\n"
      ],
      "metadata": {
        "colab": {
          "base_uri": "https://localhost:8080/"
        },
        "id": "G3P3IM2wgsNl",
        "outputId": "57ef242d-6aad-4991-d43e-a54ca8b0a4f9"
      },
      "execution_count": null,
      "outputs": [
        {
          "output_type": "stream",
          "name": "stdout",
          "text": [
            "blue\n"
          ]
        }
      ]
    },
    {
      "cell_type": "markdown",
      "source": [
        "#Q13.Write a code to find the minimum number in the tuple (10,20,5,15)."
      ],
      "metadata": {
        "id": "Z_4QULvQg237"
      }
    },
    {
      "cell_type": "code",
      "source": [
        "my_tuple = (10,20,5,15)\n",
        "min_num = min(my_tuple)\n",
        "print(min_num)"
      ],
      "metadata": {
        "colab": {
          "base_uri": "https://localhost:8080/"
        },
        "id": "HxZBWIbyfnQK",
        "outputId": "0202e149-fc0e-401e-f626-3961b4428564"
      },
      "execution_count": null,
      "outputs": [
        {
          "output_type": "stream",
          "name": "stdout",
          "text": [
            "5\n"
          ]
        }
      ]
    },
    {
      "cell_type": "markdown",
      "source": [
        "#Q14.Write a code to find the index of the element 'cat' in tuple ('dog','cat','rabbit')."
      ],
      "metadata": {
        "id": "IJAwjBzpiH5c"
      }
    },
    {
      "cell_type": "code",
      "source": [
        "my_tuple = ('dog', 'cat', 'rabbit')\n",
        "index = my_tuple.index('cat')\n",
        "print(index)"
      ],
      "metadata": {
        "colab": {
          "base_uri": "https://localhost:8080/"
        },
        "id": "rWN6_wL2fae-",
        "outputId": "aa69e367-9c42-40ab-9a0e-9a9683648cf2"
      },
      "execution_count": null,
      "outputs": [
        {
          "output_type": "stream",
          "name": "stdout",
          "text": [
            "1\n"
          ]
        }
      ]
    },
    {
      "cell_type": "markdown",
      "source": [
        "#Q15.Write a code to create a tuple contining three different fruits and check if \"kiwi\" is in it."
      ],
      "metadata": {
        "id": "p_XI1r2ljtK7"
      }
    },
    {
      "cell_type": "code",
      "source": [
        "fruits = ('apple', 'banana', 'mango')\n",
        "\n",
        "# Check if \"kiwi\" is in the tuple\n",
        "if 'kiwi' in fruits:\n",
        "    print(\"Yes, 'kiwi' is in the tuple.\")\n",
        "else:\n",
        "    print(\"No, 'kiwi' is not in the tuple.\")\n"
      ],
      "metadata": {
        "colab": {
          "base_uri": "https://localhost:8080/"
        },
        "id": "iRlZnpQ_k9xY",
        "outputId": "780b6b1b-ca25-4554-853b-260d0dc43b1c"
      },
      "execution_count": null,
      "outputs": [
        {
          "output_type": "stream",
          "name": "stdout",
          "text": [
            "No, 'kiwi' is not in the tuple.\n"
          ]
        }
      ]
    },
    {
      "cell_type": "markdown",
      "source": [
        "#Q16.write a code to reate a set with the element 'a','b','c' and print it."
      ],
      "metadata": {
        "id": "1Krmz85JlMtl"
      }
    },
    {
      "cell_type": "code",
      "source": [
        "my_set =  {'a','b','c'}\n",
        "print(my_set)"
      ],
      "metadata": {
        "colab": {
          "base_uri": "https://localhost:8080/"
        },
        "id": "BJaLC3mQjnvJ",
        "outputId": "706b1b2e-2b11-48dd-8d99-b35abc8324a3"
      },
      "execution_count": null,
      "outputs": [
        {
          "output_type": "stream",
          "name": "stdout",
          "text": [
            "{'a', 'c', 'b'}\n"
          ]
        }
      ]
    },
    {
      "cell_type": "markdown",
      "source": [
        "#Q17.write a code to clear all elements from the set {1,2,3,4,5}."
      ],
      "metadata": {
        "id": "YizswqK0nZ__"
      }
    },
    {
      "cell_type": "code",
      "source": [
        " my_set = {1, 2, 3, 4, 5}\n",
        "my_set.clear()\n",
        "print(my_set)  # Output will be: set()\n"
      ],
      "metadata": {
        "id": "jVavjpmHn3QG",
        "colab": {
          "base_uri": "https://localhost:8080/"
        },
        "outputId": "a0239659-086c-4e91-dedb-cd20f406a676"
      },
      "execution_count": null,
      "outputs": [
        {
          "output_type": "stream",
          "name": "stdout",
          "text": [
            "set()\n"
          ]
        }
      ]
    },
    {
      "cell_type": "markdown",
      "source": [
        "#Q18.Write a code to remove the element 4 from the set {1,2,3,4}."
      ],
      "metadata": {
        "id": "pQj7a1NcqnnK"
      }
    },
    {
      "cell_type": "code",
      "source": [
        "my_set = {1, 2, 3, 4}\n",
        "my_set.remove(4)\n",
        "print(my_set)  # Output will be: {1, 2, 3}\n"
      ],
      "metadata": {
        "colab": {
          "base_uri": "https://localhost:8080/"
        },
        "id": "j2EeNuMfrOmN",
        "outputId": "a3f4f1b7-ecd3-4ac8-b497-a328001c6341"
      },
      "execution_count": null,
      "outputs": [
        {
          "output_type": "stream",
          "name": "stdout",
          "text": [
            "{1, 2, 3}\n"
          ]
        }
      ]
    },
    {
      "cell_type": "markdown",
      "source": [
        "#Q19.Write a code to find the find the union of two sets {1,2,3}  and {3,4,5}."
      ],
      "metadata": {
        "id": "JbZw9gidret6"
      }
    },
    {
      "cell_type": "code",
      "source": [
        "set1 = {1, 2, 3}\n",
        "set2 = {3, 4, 5}\n",
        "\n",
        "union_set = set1.union(set2)\n",
        "print(union_set)\n"
      ],
      "metadata": {
        "id": "8FjhWlGknRLm",
        "colab": {
          "base_uri": "https://localhost:8080/"
        },
        "outputId": "3c298af9-f504-4c7a-bbf4-7dccd7cdf4dd"
      },
      "execution_count": null,
      "outputs": [
        {
          "output_type": "stream",
          "name": "stdout",
          "text": [
            "{1, 2, 3, 4, 5}\n"
          ]
        }
      ]
    },
    {
      "cell_type": "markdown",
      "source": [
        "#Q20.Write a code to find the intersection of two sets {1,2,3} and {2,3,4}."
      ],
      "metadata": {
        "id": "yTZL2JrNsjPQ"
      }
    },
    {
      "cell_type": "code",
      "source": [
        "set1 = {1, 2, 3}\n",
        "set2 = {2, 3, 4}\n",
        "\n",
        "intersection_set = set1.intersection(set2)\n",
        "print(intersection_set)\n"
      ],
      "metadata": {
        "colab": {
          "base_uri": "https://localhost:8080/"
        },
        "id": "BQpvfa-msZ2F",
        "outputId": "4fe52c5e-d9ef-4163-ddc4-2bfb2915fcba"
      },
      "execution_count": null,
      "outputs": [
        {
          "output_type": "stream",
          "name": "stdout",
          "text": [
            "{2, 3}\n"
          ]
        }
      ]
    },
    {
      "cell_type": "markdown",
      "source": [
        "#Q21.write a code to create a dictionary with the key \"name\",\"age\", and \"city\" and print it."
      ],
      "metadata": {
        "id": "kwapysIot698"
      }
    },
    {
      "cell_type": "code",
      "source": [
        "person = {\n",
        "    \"name\": \"Ravi\",\n",
        "    \"age\": 25,\n",
        "    \"city\": \"Delhi\"\n",
        "}\n",
        "\n",
        "print(person)\n"
      ],
      "metadata": {
        "colab": {
          "base_uri": "https://localhost:8080/"
        },
        "id": "AK4E3Yd2tbJg",
        "outputId": "6aa56cd7-4e62-4f8d-d875-ec357a5f400f"
      },
      "execution_count": null,
      "outputs": [
        {
          "output_type": "stream",
          "name": "stdout",
          "text": [
            "{'name': 'Ravi', 'age': 25, 'city': 'Delhi'}\n"
          ]
        }
      ]
    },
    {
      "cell_type": "markdown",
      "source": [
        "#Q22.Write a code to add a new key-value pair \"country\": \"USA\" to the dictionnary {'name':'john','age':'25'}."
      ],
      "metadata": {
        "id": "HJYFfL4uuz8E"
      }
    },
    {
      "cell_type": "code",
      "source": [
        "person = {'name': 'john', 'age': '25'}\n",
        "person['country'] = 'USA'\n",
        "\n",
        "print(person)\n"
      ],
      "metadata": {
        "colab": {
          "base_uri": "https://localhost:8080/"
        },
        "id": "E9EgW2l_uylt",
        "outputId": "e995e4a0-5dbc-44fe-aec6-239e1390f8d0"
      },
      "execution_count": null,
      "outputs": [
        {
          "output_type": "stream",
          "name": "stdout",
          "text": [
            "{'name': 'john', 'age': '25', 'country': 'USA'}\n"
          ]
        }
      ]
    },
    {
      "cell_type": "markdown",
      "source": [
        "#Q23.write a code to access the value associated with the key \"name\" in the dictionary {'name':'Alice''age':'30'}."
      ],
      "metadata": {
        "id": "iaz6lwbVwGgA"
      }
    },
    {
      "cell_type": "code",
      "source": [
        "person = {'name': 'Alice', 'age': '30'}\n",
        "print(person['name'])\n"
      ],
      "metadata": {
        "colab": {
          "base_uri": "https://localhost:8080/"
        },
        "id": "n03kGq93wEAT",
        "outputId": "7ddb1282-ab74-4f6a-fd61-8d85aced2329"
      },
      "execution_count": null,
      "outputs": [
        {
          "output_type": "stream",
          "name": "stdout",
          "text": [
            "Alice\n"
          ]
        }
      ]
    },
    {
      "cell_type": "markdown",
      "source": [
        "#Q24.write a code to remove the key \"age\" from dictionary {'name':'bob','age':'22','city':'New york'}."
      ],
      "metadata": {
        "id": "-RMJyprAxAKh"
      }
    },
    {
      "cell_type": "code",
      "source": [
        "person = {'name': 'bob', 'age': '22', 'city': 'New york'}\n",
        "del person['age']\n",
        "\n",
        "print(person)\n"
      ],
      "metadata": {
        "colab": {
          "base_uri": "https://localhost:8080/"
        },
        "id": "jbse8z9Lw9So",
        "outputId": "0f2271cf-3de4-42bc-9c32-248f006b0c39"
      },
      "execution_count": null,
      "outputs": [
        {
          "output_type": "stream",
          "name": "stdout",
          "text": [
            "{'name': 'bob', 'city': 'New york'}\n"
          ]
        }
      ]
    },
    {
      "cell_type": "markdown",
      "source": [
        "#Q25.write a code to check if the key \"city\" exists in the dictionary {'name':'Alice','city':'pairs'}."
      ],
      "metadata": {
        "id": "L65A1BMSxy0b"
      }
    },
    {
      "cell_type": "code",
      "source": [
        "person = {'name': 'Alice', 'city': 'Paris'}\n",
        "\n",
        "if 'city' in person:\n",
        "    print(\"Key 'city' exists in the dictionary.\")\n",
        "else:\n",
        "    print(\"Key 'city' does not exist in the dictionary.\")\n"
      ],
      "metadata": {
        "colab": {
          "base_uri": "https://localhost:8080/"
        },
        "id": "gMJ-E8rQxtol",
        "outputId": "a87d222f-8cac-4e4f-f167-d99ce8bad772"
      },
      "execution_count": null,
      "outputs": [
        {
          "output_type": "stream",
          "name": "stdout",
          "text": [
            "Key 'city' exists in the dictionary.\n"
          ]
        }
      ]
    },
    {
      "cell_type": "markdown",
      "source": [
        "#Q26.write a code to create a list , a tuple, and a dictionary , and print them all."
      ],
      "metadata": {
        "id": "SSaF-odDyvjK"
      }
    },
    {
      "cell_type": "code",
      "source": [
        "# Creating a list\n",
        "my_list = [1, 2, 3, 4, 5]\n",
        "\n",
        "# Creating a tuple\n",
        "my_tuple = (10, 20, 30, 40, 50)\n",
        "\n",
        "# Creating a dictionary\n",
        "my_dict = {'name': 'John', 'age': 30, 'city': 'New York'}\n",
        "\n",
        "# Printing the list, tuple, and dictionary\n",
        "print(\"List:\", my_list)\n",
        "print(\"Tuple:\", my_tuple)\n",
        "print(\"Dictionary:\", my_dict)\n"
      ],
      "metadata": {
        "colab": {
          "base_uri": "https://localhost:8080/"
        },
        "id": "FE4XXBFWyqjg",
        "outputId": "1b20be50-b05d-457f-f763-b6e1fe2da07f"
      },
      "execution_count": null,
      "outputs": [
        {
          "output_type": "stream",
          "name": "stdout",
          "text": [
            "List: [1, 2, 3, 4, 5]\n",
            "Tuple: (10, 20, 30, 40, 50)\n",
            "Dictionary: {'name': 'John', 'age': 30, 'city': 'New York'}\n"
          ]
        }
      ]
    },
    {
      "cell_type": "markdown",
      "source": [
        "#Q27.write a code to create a list of 5 random numbers between 1 and 100 , sort it in ascending order , and print the result.(replaced)"
      ],
      "metadata": {
        "id": "3cABVnTZzO3o"
      }
    },
    {
      "cell_type": "code",
      "source": [
        "import random\n",
        "\n",
        "# Creating a list of 5 random numbers between 1 and 100\n",
        "random_numbers = random.sample(range(1, 101), 5)\n",
        "\n",
        "# Sorting the list in ascending order\n",
        "random_numbers.sort()\n",
        "\n",
        "# Printing the result\n",
        "print(random_numbers)\n"
      ],
      "metadata": {
        "colab": {
          "base_uri": "https://localhost:8080/"
        },
        "id": "ZU2FyrxCzMDl",
        "outputId": "c5462715-a985-47a5-9184-7ff5596d09a9"
      },
      "execution_count": null,
      "outputs": [
        {
          "output_type": "stream",
          "name": "stdout",
          "text": [
            "[13, 69, 80, 83, 91]\n"
          ]
        }
      ]
    },
    {
      "cell_type": "markdown",
      "source": [
        "#Q28.write  a code to create a list with string and print the element at the third index."
      ],
      "metadata": {
        "id": "nPo-dh630DwI"
      }
    },
    {
      "cell_type": "code",
      "source": [
        "# Creating a list with strings\n",
        "my_list = [\"apple\", \"banana\", \"cherry\", \"date\", \"elderberry\"]\n",
        "\n",
        "# Printing the element at the third index\n",
        "print(my_list[3])\n"
      ],
      "metadata": {
        "colab": {
          "base_uri": "https://localhost:8080/"
        },
        "id": "2WtT-T_T0dfO",
        "outputId": "c2a4446f-83ff-4c0f-f519-e3840393ef2b"
      },
      "execution_count": null,
      "outputs": [
        {
          "output_type": "stream",
          "name": "stdout",
          "text": [
            "date\n"
          ]
        }
      ]
    },
    {
      "cell_type": "markdown",
      "source": [
        "#Q29.write a code to combine two dictionaries into one and print the result."
      ],
      "metadata": {
        "id": "p3xuoEWJ0hX0"
      }
    },
    {
      "cell_type": "code",
      "source": [
        "dict1 = {'a': 1, 'b': 2}\n",
        "dict2 = {'c': 3, 'd': 4}\n",
        "\n",
        "# Combining the dictionaries\n",
        "combined_dict = {**dict1, **dict2}\n",
        "\n",
        "# Printing the result\n",
        "print(combined_dict)\n"
      ],
      "metadata": {
        "colab": {
          "base_uri": "https://localhost:8080/"
        },
        "id": "pMdHDJEKz-_v",
        "outputId": "3f54c9a1-bd27-4ba6-8e92-cbd1c0853c25"
      },
      "execution_count": null,
      "outputs": [
        {
          "output_type": "stream",
          "name": "stdout",
          "text": [
            "{'a': 1, 'b': 2, 'c': 3, 'd': 4}\n"
          ]
        }
      ]
    },
    {
      "cell_type": "markdown",
      "source": [
        "#Q30.write a code to convert a list of string into a set."
      ],
      "metadata": {
        "id": "NPK9cBI-1AHA"
      }
    },
    {
      "cell_type": "code",
      "source": [
        "# List of strings\n",
        "string_list = [\"apple\", \"banana\", \"cherry\", \"apple\", \"banana\"]\n",
        "\n",
        "# Converting the list into a set\n",
        "string_set = set(string_list)\n",
        "\n",
        "# Printing the set\n",
        "print(string_set)\n"
      ],
      "metadata": {
        "colab": {
          "base_uri": "https://localhost:8080/"
        },
        "id": "3SNOar2g0-M1",
        "outputId": "6eb383b6-4529-4b5e-8953-1de5090c96cc"
      },
      "execution_count": null,
      "outputs": [
        {
          "output_type": "stream",
          "name": "stdout",
          "text": [
            "{'apple', 'cherry', 'banana'}\n"
          ]
        }
      ]
    },
    {
      "cell_type": "code",
      "source": [],
      "metadata": {
        "id": "3yIz3Wa31XVE"
      },
      "execution_count": null,
      "outputs": []
    }
  ]
}